{
  "nbformat": 4,
  "nbformat_minor": 0,
  "metadata": {
    "colab": {
      "name": "TDA.ipynb",
      "provenance": [],
      "authorship_tag": "ABX9TyM1umwdnoPKnjujO8DVn9Mi",
      "include_colab_link": true
    },
    "kernelspec": {
      "name": "python3",
      "display_name": "Python 3"
    }
  },
  "cells": [
    {
      "cell_type": "markdown",
      "metadata": {
        "id": "view-in-github",
        "colab_type": "text"
      },
      "source": [
        "<a href=\"https://colab.research.google.com/github/Edmy20/IPC2-TDA/blob/main/TDA.ipynb\" target=\"_parent\"><img src=\"https://colab.research.google.com/assets/colab-badge.svg\" alt=\"Open In Colab\"/></a>"
      ]
    },
    {
      "cell_type": "markdown",
      "metadata": {
        "id": "6jmL091XdS_m"
      },
      "source": [
        "**Ejerciocio de Listas Enlazadas**\r\n"
      ]
    },
    {
      "cell_type": "markdown",
      "metadata": {
        "id": "w9mk1QvYPKgM"
      },
      "source": [
        "**Definicion de clase Cliente**"
      ]
    },
    {
      "cell_type": "code",
      "metadata": {
        "id": "fIDWo6EPeab4"
      },
      "source": [
        "class cliente:\r\n",
        "  def __init__(self,nombre,no_habitacion):\r\n",
        "    self.nombre=nombre\r\n",
        "    self.no_habitacion=no_habitacion\r\n",
        "    "
      ],
      "execution_count": 72,
      "outputs": []
    },
    {
      "cell_type": "code",
      "metadata": {
        "id": "TZ4ct5M4WTk9"
      },
      "source": [
        "class node:\r\n",
        "  def __init__(self,cliente=None,next=None):\r\n",
        "   self.cliente=cliente\r\n",
        "   self.next=next"
      ],
      "execution_count": null,
      "outputs": []
    },
    {
      "cell_type": "code",
      "metadata": {
        "id": "3jrZezEWYYXk"
      },
      "source": [
        "class linked_list:\r\n",
        "  def __init__(self):\r\n",
        "    self.head=None #El primer nodo va a apuntar a vacio\r\n",
        "\r\n",
        "  def insertar(self,cliente): #Palabra self indica que pertnece a una linked_list\r\n",
        "    if not self.head:# Si no hay un nodo en la cabeza de la estructura, se crea una cabecera\r\n",
        "      self.head = node(cliente=cliente)#primer nodo\r\n",
        "      return#termina\r\n",
        "    current = self.head#Si hay cabecera, se almacena en una variable que se llama actual\r\n",
        "    while current.next:#recorre\r\n",
        "      current = current.next\r\n",
        "    current.next = node(cliente=cliente)#Cuando llega al final se coloca el nodo ingresado\r\n",
        "\r\n",
        "  def imprimir(self):\r\n",
        "    node=self.head #Variable de la fun. sirve para recorrido\r\n",
        "    while node!=None:\r\n",
        "      print(node.cliente.nombre, end=\" -->\")\r\n",
        "      node = node.next\r\n",
        "\r\n",
        "  def eliminar(self, no_habitacion):\r\n",
        "    current = self.head\r\n",
        "    previous=None\r\n",
        "\r\n",
        "    while current and current.cliente.no_habitacion != no_habitacion:\r\n",
        "      previous=current\r\n",
        "      current = current.next\r\n",
        "\r\n",
        "    if previous is None:\r\n",
        "        self.head = current.next\r\n",
        "    elif current:\r\n",
        "        previous.next = current.next\r\n",
        "        current.next = None \r\n"
      ],
      "execution_count": null,
      "outputs": []
    },
    {
      "cell_type": "code",
      "metadata": {
        "id": "YchqWJHucwXp"
      },
      "source": [
        "c1 = cliente(\"Estruardo Zapeta\",101)\r\n",
        "c2 = cliente(\"Marco López\",103)\r\n",
        "c3 = cliente(\"Josue Armas\", 204)\r\n",
        "c4 = cliente(\"Gladys Olmos\", 302)"
      ],
      "execution_count": null,
      "outputs": []
    },
    {
      "cell_type": "code",
      "metadata": {
        "id": "bh81EIj5dgv4"
      },
      "source": [
        "lista = linked_list()\r\n",
        "lista.insertar(c1)\r\n",
        "lista.insertar(c2)\r\n",
        "lista.insertar(c3)\r\n",
        "lista.insertar(c4)"
      ],
      "execution_count": null,
      "outputs": []
    },
    {
      "cell_type": "code",
      "metadata": {
        "colab": {
          "base_uri": "https://localhost:8080/"
        },
        "id": "BLhRoeCHeGwu",
        "outputId": "79e96fe7-4cda-4921-bc67-227f7b818b7e"
      },
      "source": [
        "lista.imprimir()"
      ],
      "execution_count": null,
      "outputs": [
        {
          "output_type": "stream",
          "text": [
            "Estruardo Zapeta -->Marco López -->Josue Armas -->Gladys Olmos -->"
          ],
          "name": "stdout"
        }
      ]
    },
    {
      "cell_type": "code",
      "metadata": {
        "colab": {
          "base_uri": "https://localhost:8080/"
        },
        "id": "MC5aWmACkN4W",
        "outputId": "5cee4c10-714b-48f2-9ea9-29ed88a2daf7"
      },
      "source": [
        "lista.eliminar(204)\r\n",
        "lista.imprimir()"
      ],
      "execution_count": null,
      "outputs": [
        {
          "output_type": "stream",
          "text": [
            "Estruardo Zapeta -->Marco López -->Gladys Olmos -->"
          ],
          "name": "stdout"
        }
      ]
    },
    {
      "cell_type": "markdown",
      "metadata": {
        "id": "l37Z7i9BoO4D"
      },
      "source": [
        "**Ejercicio de Listas Circulares**"
      ]
    },
    {
      "cell_type": "code",
      "metadata": {
        "id": "UMajuaQjoW1S"
      },
      "source": [
        "class linked_list_circular:\r\n",
        "  def __init__(self,head=None):\r\n",
        "    self.head=head\r\n",
        "    #self.head.next = head\r\n",
        "    self.size=0\r\n",
        "\r\n",
        "  def insertar (self,cliente):\r\n",
        "    if self.size==0:\r\n",
        "      self.head=node(cliente=cliente)\r\n",
        "      self.head.next=self.head\r\n",
        "    else:\r\n",
        "      new_node=node(cliente=cliente,next=self.head.next)\r\n",
        "      self.head.next=new_node\r\n",
        "    self.size+=1\r\n",
        "\r\n",
        "  def imprimir(self):\r\n",
        "      if self.head is None:\r\n",
        "        return\r\n",
        "      node=self.head\r\n",
        "      print(node.cliente.nombre, end=\" --> \")\r\n",
        "\r\n",
        "      while node.next!=self.head:\r\n",
        "        node = node.next\r\n",
        "        print(node.cliente.nombre, end=\" --> \")\r\n",
        "\r\n",
        "  def eliminar(self, no_habitacion):\r\n",
        "    node=self.head\r\n",
        "    previous=None\r\n",
        "\r\n",
        "    while True:\r\n",
        "      if node.cliente.no_habitacion==no_habitacion:\r\n",
        "        if previous is not None:\r\n",
        "          previous.next=node.next\r\n",
        "\r\n",
        "        else:\r\n",
        "            while node.next != self.head:\r\n",
        "              node =node.next\r\n",
        "            node.next =self.head.next\r\n",
        "            self.head = self.head.next\r\n",
        "        self.size-=1\r\n",
        "        return True\r\n",
        "      elif node.next==self.head:\r\n",
        "        return flase\r\n",
        "\r\n",
        "      previous =node\r\n",
        "      node = node.next\r\n",
        "\r\n",
        "\r\n",
        "\r\n",
        "  #def search (self, position, pre=False):"
      ],
      "execution_count": null,
      "outputs": []
    },
    {
      "cell_type": "markdown",
      "metadata": {
        "id": "5wiqW_P1jziW"
      },
      "source": [
        "**Inserción**"
      ]
    },
    {
      "cell_type": "code",
      "metadata": {
        "id": "G-BIakZVRtL9"
      },
      "source": [
        "lista_c=linked_list_circular()\r\n",
        "lista_c.insertar(c1)\r\n",
        "lista_c.insertar(c2)\r\n",
        "lista_c.insertar(c3)\r\n",
        "lista_c.insertar(c4)"
      ],
      "execution_count": null,
      "outputs": []
    },
    {
      "cell_type": "code",
      "metadata": {
        "colab": {
          "base_uri": "https://localhost:8080/"
        },
        "id": "_GAIRZ3BUss5",
        "outputId": "6a694a60-2c87-4496-cee1-2f7285b51657"
      },
      "source": [
        "lista_c.imprimir()"
      ],
      "execution_count": null,
      "outputs": [
        {
          "output_type": "stream",
          "text": [
            "Estruardo Zapeta --> Gladys Olmos --> Josue Armas --> Marco López --> "
          ],
          "name": "stdout"
        }
      ]
    },
    {
      "cell_type": "code",
      "metadata": {
        "colab": {
          "base_uri": "https://localhost:8080/"
        },
        "id": "6bNZpMUZgEyV",
        "outputId": "9d0adeb8-9c21-4f65-e110-4d038420d25e"
      },
      "source": [
        "lista_c.eliminar(101)"
      ],
      "execution_count": null,
      "outputs": [
        {
          "output_type": "execute_result",
          "data": {
            "text/plain": [
              "True"
            ]
          },
          "metadata": {
            "tags": []
          },
          "execution_count": 35
        }
      ]
    },
    {
      "cell_type": "code",
      "metadata": {
        "colab": {
          "base_uri": "https://localhost:8080/"
        },
        "id": "IzwsFchxgWVB",
        "outputId": "6ea396e0-a0c8-4941-d75d-4e291c655734"
      },
      "source": [
        "lista_c.imprimir()"
      ],
      "execution_count": null,
      "outputs": [
        {
          "output_type": "stream",
          "text": [
            "Gladys Olmos --> Josue Armas --> Marco López --> "
          ],
          "name": "stdout"
        }
      ]
    },
    {
      "cell_type": "code",
      "metadata": {
        "colab": {
          "base_uri": "https://localhost:8080/"
        },
        "id": "nCZl2ZTKgcwm",
        "outputId": "ec6bafc0-243f-4336-a754-16a4a523d4f6"
      },
      "source": [
        "lista_c.eliminar(103)"
      ],
      "execution_count": null,
      "outputs": [
        {
          "output_type": "execute_result",
          "data": {
            "text/plain": [
              "True"
            ]
          },
          "metadata": {
            "tags": []
          },
          "execution_count": 37
        }
      ]
    },
    {
      "cell_type": "code",
      "metadata": {
        "colab": {
          "base_uri": "https://localhost:8080/"
        },
        "id": "ZNo9iWFPggkC",
        "outputId": "aaf3e8b6-156e-4051-d0f7-541060b5b656"
      },
      "source": [
        "lista_c.imprimir()"
      ],
      "execution_count": null,
      "outputs": [
        {
          "output_type": "stream",
          "text": [
            "Gladys Olmos --> Josue Armas --> "
          ],
          "name": "stdout"
        }
      ]
    },
    {
      "cell_type": "markdown",
      "metadata": {
        "id": "vBzfnGL-jUwE"
      },
      "source": [
        "**Listas Doblemente Enlazadas**"
      ]
    },
    {
      "cell_type": "code",
      "metadata": {
        "id": "a1xYHu0fjagR"
      },
      "source": [
        "class node_de:\r\n",
        "  def __init__(self,cliente=None, next=None, previous=None):\r\n",
        "    self.cliente=cliente\r\n",
        "    self.previous = previous\r\n",
        "    self.next=next"
      ],
      "execution_count": 73,
      "outputs": []
    },
    {
      "cell_type": "code",
      "metadata": {
        "id": "AcUdIXKJZMRd"
      },
      "source": [
        "class linked_list_de:\r\n",
        "  def __init__(self,head=None):\r\n",
        "    self.head = head\r\n",
        "    self.last=head\r\n",
        "    self.size=0\r\n",
        "  \r\n",
        "  def insertar(self, cliente):\r\n",
        "    if self.size==0:\r\n",
        "      self.head=node_de(cliente=cliente)\r\n",
        "      self.last = self.head\r\n",
        "    else:\r\n",
        "      new_node = node_de(cliente=cliente,next=self.head)\r\n",
        "      self.head = new_node\r\n",
        "      self.head = new_node\r\n",
        "    self.size+=1\r\n",
        "\r\n",
        "  def imprimir(self):\r\n",
        "    if self.head is None:\r\n",
        "      return\r\n",
        "\r\n",
        "    node = self.head\r\n",
        "    print(node.cliente.nombre, end=\" -->\")\r\n",
        "\r\n",
        "    while node.next:\r\n",
        "      node = node.next\r\n",
        "      print(node.cliente.nombre, end = \" -->\")\r\n",
        "\r\n",
        "  def eliminar(self, no_habitacion):\r\n",
        "    node = self.head\r\n",
        "    while node is not None:\r\n",
        "      if node.cliente.no_habitacion == no_habitacion:\r\n",
        "        if node.previous is not None:#NODO NO es la cabecera\r\n",
        "          if node.next:#NODO en medio de la estructura\r\n",
        "            node.previous.next = node.next\r\n",
        "            node.next.previous = node.previous\r\n",
        "          else:#nodo ultimo\r\n",
        "            node.previous.next = None\r\n",
        "            self.last = node.previous\r\n",
        "        else:#borrar la cabecera\r\n",
        "          self.head = node.next\r\n",
        "          node.next.previous = self.head\r\n",
        "        self.size-=1\r\n",
        "        return True\r\n",
        "      else:\r\n",
        "        node = node.next\r\n",
        "    return False\r\n",
        "\r\n",
        "  \r\n"
      ],
      "execution_count": 74,
      "outputs": []
    },
    {
      "cell_type": "code",
      "metadata": {
        "id": "O8AsRd-9bg1R"
      },
      "source": [
        "c1 = cliente(\"Esturdo Zapeta\",101)\r\n",
        "c2 = cliente(\"Marco López\", 103)\r\n",
        "c3 = cliente(\"Josue Armas\",204)"
      ],
      "execution_count": 79,
      "outputs": []
    },
    {
      "cell_type": "markdown",
      "metadata": {
        "id": "bVuFsyCcepQG"
      },
      "source": [
        "**Inserción**"
      ]
    },
    {
      "cell_type": "code",
      "metadata": {
        "id": "KDNI2S_lc0yp"
      },
      "source": [
        "lista_de=linked_list_de()\r\n",
        "lista_de.insertar(c1)\r\n",
        "lista_de.insertar(c2)\r\n",
        "lista_de.insertar(c3)"
      ],
      "execution_count": 83,
      "outputs": []
    },
    {
      "cell_type": "markdown",
      "metadata": {
        "id": "Tlv2gpmSeszK"
      },
      "source": [
        "**Impresión**\r\n",
        "\r\n"
      ]
    },
    {
      "cell_type": "code",
      "metadata": {
        "colab": {
          "base_uri": "https://localhost:8080/"
        },
        "id": "ISoQqN3ZeFBb",
        "outputId": "6dad7030-49b2-4194-b24f-e66debd19ecc"
      },
      "source": [
        "lista_de.imprimir()"
      ],
      "execution_count": 64,
      "outputs": [
        {
          "output_type": "stream",
          "text": [
            "Josue Armas -->Marco López -->Esturdo Zapeta -->"
          ],
          "name": "stdout"
        }
      ]
    },
    {
      "cell_type": "code",
      "metadata": {
        "colab": {
          "base_uri": "https://localhost:8080/"
        },
        "id": "QysEXYjZmmZp",
        "outputId": "bd0844bd-4b01-4972-a385-ec096ada23b1"
      },
      "source": [
        "lista_de.eliminar(204)"
      ],
      "execution_count": 84,
      "outputs": [
        {
          "output_type": "execute_result",
          "data": {
            "text/plain": [
              "True"
            ]
          },
          "metadata": {
            "tags": []
          },
          "execution_count": 84
        }
      ]
    },
    {
      "cell_type": "code",
      "metadata": {
        "colab": {
          "base_uri": "https://localhost:8080/"
        },
        "id": "oAP7PzFCn-rv",
        "outputId": "c22fec9f-3e97-4901-d3e3-1dc6fd1a373f"
      },
      "source": [
        "lista_de.imprimir()"
      ],
      "execution_count": 85,
      "outputs": [
        {
          "output_type": "stream",
          "text": [
            "Marco López -->Esturdo Zapeta -->"
          ],
          "name": "stdout"
        }
      ]
    }
  ]
}